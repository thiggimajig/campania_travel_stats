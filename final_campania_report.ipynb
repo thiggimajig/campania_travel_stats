{
 "cells": [
  {
   "cell_type": "markdown",
   "metadata": {},
   "source": [
    "# Tourism Report Campania 2011 by Taylor Higgins | Data Lab with Professor Vignole 2022 "
   ]
  },
  {
   "cell_type": "markdown",
   "metadata": {},
   "source": [
    "### A survey on travel habits throughout Italy was taken in the beginning of 2011 with 823 participants. In this section we’ll focus primarily on Campania data. \n",
    "\n",
    "Part I: Introduction to Campania\n",
    "\n",
    "Campania is a region in Southwestern Italy known for its gorgeous coastline, and ancient archeological sites. The area of Campania is 13,590 square km, and had a population of 5.802 million in 2019 according to Eurostat. The city of Naples is the region’s capital, world-renowned for its folded pizza and other street food. Other important sites in the region include the somma-stratovolcano, Mount Vesuvius, which is visible from the City of Naples, and is well known for erupting and destroying the town of Pompeii in AD 79. This eruption petrified and preserved the town, creating a very important historical landmark of Pompeii, Herculaneum, Oplontis and Stabiae. It is still regarded as one of the most dangerous volcanoes in the world since so many people live within its eruption zone. Other important cities in the area include Positano, Amalif and Ravello, three towns in the Amalfi Coast, iconic for being positioned between cliffs and the sea. \n"
   ]
  },
  {
   "cell_type": "code",
   "execution_count": 1,
   "metadata": {},
   "outputs": [],
   "source": [
    "import pandas as pd\n",
    "import numpy as np\n",
    "import statistics as st\n",
    "import matplotlib as plt\n",
    "import scipy\n",
    "from scipy import stats\n",
    "from scipy.stats import describe\n",
    "import seaborn as sns"
   ]
  },
  {
   "cell_type": "code",
   "execution_count": 2,
   "metadata": {},
   "outputs": [],
   "source": [
    "df = pd.read_csv('campania.csv')"
   ]
  },
  {
   "cell_type": "code",
   "execution_count": 3,
   "metadata": {},
   "outputs": [],
   "source": [
    "df.rename({\"Anno\":\"year\", \"Mese\": \"month\", \"TIPFAM\":\"family_type\", \"NC\": \"number_members\", \"Sesso1\": \"gender\", \"Eta4_1\": \"age\", \"Statociv1\": \"civil_status\", \"Titstu1\": \"education\", \"Conprof1\": \"employment\", \"Occupa_abita\": \"housing\", \"Altreabit\": \"second_home\", \"Vacanze\": \"holiday_rec\", \"Estero\": \"holiday_rec_abroad\", \"Italia\": \"holiday_rec_domestic\", \"C_9901\":\"abroad_all_inc\", \"C_9902\": \"abroad_hotel_meals\", \"C_9903\": \"abroad_hotel\", \"C_9911\": \"domestic_all_inc\", \"C_9912\": \"domestic_hotel_meals\", \"C_9913\":\"domestic_hotel\", \"Trasp\":\"transportation_exp\", \"ALIM_BEV_TAB\":\"food_exp\", \"SPESATOT\":\"all_exp\"}, axis=\"columns\", inplace=True)\n"
   ]
  },
  {
   "cell_type": "code",
   "execution_count": 4,
   "metadata": {},
   "outputs": [],
   "source": [
    "df.drop(['aut','est', 'pri', 'centro', 'nord', 'Periodo'], axis=1, inplace=True)"
   ]
  },
  {
   "cell_type": "code",
   "execution_count": 5,
   "metadata": {},
   "outputs": [],
   "source": [
    "#create a new dataframe for quant and qual variables\n",
    "quant_labels = ['number_members', 'abroad_all_inc', 'abroad_hotel_meals', 'abroad_hotel', 'holiday_rec', 'holiday_rec_abroad', 'holiday_rec_domestic', 'domestic_all_inc', 'domestic_hotel_meals', 'domestic_hotel', 'trasp', 'all_exp', 'food_exp']\n",
    "df_quant = df.loc[:, quant_labels]\n",
    "qual_labels = ['id', 'year', 'month', 'gender','family_type', 'age', 'civil_status', 'education', 'employment', 'housing', 'second_home', 'holiday_rec', 'holiday_rec_abroad', 'holiday_rec_domestic']\n",
    "df_qual = df.loc[:, qual_labels].astype(\"category\")"
   ]
  },
  {
   "cell_type": "markdown",
   "metadata": {},
   "source": [
    "## Quantitative Summary Stats\n",
    "By default the lower percentile is 25 and the upper percentile is 75. The 50 percentile is the same as the median.\n",
    "75 percentile means only 25% of answers are above"
   ]
  },
  {
   "cell_type": "code",
   "execution_count": 6,
   "metadata": {},
   "outputs": [
    {
     "data": {
      "text/html": [
       "<div>\n",
       "<style scoped>\n",
       "    .dataframe tbody tr th:only-of-type {\n",
       "        vertical-align: middle;\n",
       "    }\n",
       "\n",
       "    .dataframe tbody tr th {\n",
       "        vertical-align: top;\n",
       "    }\n",
       "\n",
       "    .dataframe thead th {\n",
       "        text-align: right;\n",
       "    }\n",
       "</style>\n",
       "<table border=\"1\" class=\"dataframe\">\n",
       "  <thead>\n",
       "    <tr style=\"text-align: right;\">\n",
       "      <th></th>\n",
       "      <th>count</th>\n",
       "      <th>mean</th>\n",
       "      <th>std</th>\n",
       "      <th>min</th>\n",
       "      <th>25%</th>\n",
       "      <th>50%</th>\n",
       "      <th>75%</th>\n",
       "      <th>max</th>\n",
       "    </tr>\n",
       "  </thead>\n",
       "  <tbody>\n",
       "    <tr>\n",
       "      <th>number_members</th>\n",
       "      <td>823.0</td>\n",
       "      <td>2.800729</td>\n",
       "      <td>1.373772</td>\n",
       "      <td>1.00</td>\n",
       "      <td>2.000</td>\n",
       "      <td>3.00</td>\n",
       "      <td>4.000</td>\n",
       "      <td>9.00</td>\n",
       "    </tr>\n",
       "    <tr>\n",
       "      <th>abroad_all_inc</th>\n",
       "      <td>823.0</td>\n",
       "      <td>0.607533</td>\n",
       "      <td>17.428904</td>\n",
       "      <td>0.00</td>\n",
       "      <td>0.000</td>\n",
       "      <td>0.00</td>\n",
       "      <td>0.000</td>\n",
       "      <td>500.00</td>\n",
       "    </tr>\n",
       "    <tr>\n",
       "      <th>abroad_hotel_meals</th>\n",
       "      <td>823.0</td>\n",
       "      <td>0.000000</td>\n",
       "      <td>0.000000</td>\n",
       "      <td>0.00</td>\n",
       "      <td>0.000</td>\n",
       "      <td>0.00</td>\n",
       "      <td>0.000</td>\n",
       "      <td>0.00</td>\n",
       "    </tr>\n",
       "    <tr>\n",
       "      <th>abroad_hotel</th>\n",
       "      <td>823.0</td>\n",
       "      <td>0.000000</td>\n",
       "      <td>0.000000</td>\n",
       "      <td>0.00</td>\n",
       "      <td>0.000</td>\n",
       "      <td>0.00</td>\n",
       "      <td>0.000</td>\n",
       "      <td>0.00</td>\n",
       "    </tr>\n",
       "    <tr>\n",
       "      <th>holiday_rec</th>\n",
       "      <td>823.0</td>\n",
       "      <td>1.978129</td>\n",
       "      <td>0.146352</td>\n",
       "      <td>1.00</td>\n",
       "      <td>2.000</td>\n",
       "      <td>2.00</td>\n",
       "      <td>2.000</td>\n",
       "      <td>2.00</td>\n",
       "    </tr>\n",
       "    <tr>\n",
       "      <th>holiday_rec_abroad</th>\n",
       "      <td>18.0</td>\n",
       "      <td>1.944444</td>\n",
       "      <td>0.235702</td>\n",
       "      <td>1.00</td>\n",
       "      <td>2.000</td>\n",
       "      <td>2.00</td>\n",
       "      <td>2.000</td>\n",
       "      <td>2.00</td>\n",
       "    </tr>\n",
       "    <tr>\n",
       "      <th>holiday_rec_domestic</th>\n",
       "      <td>18.0</td>\n",
       "      <td>1.055556</td>\n",
       "      <td>0.235702</td>\n",
       "      <td>1.00</td>\n",
       "      <td>1.000</td>\n",
       "      <td>1.00</td>\n",
       "      <td>1.000</td>\n",
       "      <td>2.00</td>\n",
       "    </tr>\n",
       "    <tr>\n",
       "      <th>domestic_all_inc</th>\n",
       "      <td>823.0</td>\n",
       "      <td>0.668287</td>\n",
       "      <td>12.189324</td>\n",
       "      <td>0.00</td>\n",
       "      <td>0.000</td>\n",
       "      <td>0.00</td>\n",
       "      <td>0.000</td>\n",
       "      <td>300.00</td>\n",
       "    </tr>\n",
       "    <tr>\n",
       "      <th>domestic_hotel_meals</th>\n",
       "      <td>823.0</td>\n",
       "      <td>12.272175</td>\n",
       "      <td>130.066664</td>\n",
       "      <td>0.00</td>\n",
       "      <td>0.000</td>\n",
       "      <td>0.00</td>\n",
       "      <td>0.000</td>\n",
       "      <td>1800.00</td>\n",
       "    </tr>\n",
       "    <tr>\n",
       "      <th>domestic_hotel</th>\n",
       "      <td>823.0</td>\n",
       "      <td>7.557716</td>\n",
       "      <td>98.679795</td>\n",
       "      <td>0.00</td>\n",
       "      <td>0.000</td>\n",
       "      <td>0.00</td>\n",
       "      <td>0.000</td>\n",
       "      <td>2200.00</td>\n",
       "    </tr>\n",
       "    <tr>\n",
       "      <th>trasp</th>\n",
       "      <td>823.0</td>\n",
       "      <td>222.588943</td>\n",
       "      <td>311.959279</td>\n",
       "      <td>0.00</td>\n",
       "      <td>44.740</td>\n",
       "      <td>184.86</td>\n",
       "      <td>296.735</td>\n",
       "      <td>6397.16</td>\n",
       "    </tr>\n",
       "    <tr>\n",
       "      <th>all_exp</th>\n",
       "      <td>823.0</td>\n",
       "      <td>1944.084083</td>\n",
       "      <td>1134.559918</td>\n",
       "      <td>323.38</td>\n",
       "      <td>1177.430</td>\n",
       "      <td>1705.82</td>\n",
       "      <td>2434.610</td>\n",
       "      <td>7821.32</td>\n",
       "    </tr>\n",
       "    <tr>\n",
       "      <th>food_exp</th>\n",
       "      <td>823.0</td>\n",
       "      <td>518.995723</td>\n",
       "      <td>321.374131</td>\n",
       "      <td>19.59</td>\n",
       "      <td>301.715</td>\n",
       "      <td>449.60</td>\n",
       "      <td>662.060</td>\n",
       "      <td>2002.68</td>\n",
       "    </tr>\n",
       "  </tbody>\n",
       "</table>\n",
       "</div>"
      ],
      "text/plain": [
       "                      count         mean          std     min       25%  \\\n",
       "number_members        823.0     2.800729     1.373772    1.00     2.000   \n",
       "abroad_all_inc        823.0     0.607533    17.428904    0.00     0.000   \n",
       "abroad_hotel_meals    823.0     0.000000     0.000000    0.00     0.000   \n",
       "abroad_hotel          823.0     0.000000     0.000000    0.00     0.000   \n",
       "holiday_rec           823.0     1.978129     0.146352    1.00     2.000   \n",
       "holiday_rec_abroad     18.0     1.944444     0.235702    1.00     2.000   \n",
       "holiday_rec_domestic   18.0     1.055556     0.235702    1.00     1.000   \n",
       "domestic_all_inc      823.0     0.668287    12.189324    0.00     0.000   \n",
       "domestic_hotel_meals  823.0    12.272175   130.066664    0.00     0.000   \n",
       "domestic_hotel        823.0     7.557716    98.679795    0.00     0.000   \n",
       "trasp                 823.0   222.588943   311.959279    0.00    44.740   \n",
       "all_exp               823.0  1944.084083  1134.559918  323.38  1177.430   \n",
       "food_exp              823.0   518.995723   321.374131   19.59   301.715   \n",
       "\n",
       "                          50%       75%      max  \n",
       "number_members           3.00     4.000     9.00  \n",
       "abroad_all_inc           0.00     0.000   500.00  \n",
       "abroad_hotel_meals       0.00     0.000     0.00  \n",
       "abroad_hotel             0.00     0.000     0.00  \n",
       "holiday_rec              2.00     2.000     2.00  \n",
       "holiday_rec_abroad       2.00     2.000     2.00  \n",
       "holiday_rec_domestic     1.00     1.000     2.00  \n",
       "domestic_all_inc         0.00     0.000   300.00  \n",
       "domestic_hotel_meals     0.00     0.000  1800.00  \n",
       "domestic_hotel           0.00     0.000  2200.00  \n",
       "trasp                  184.86   296.735  6397.16  \n",
       "all_exp               1705.82  2434.610  7821.32  \n",
       "food_exp               449.60   662.060  2002.68  "
      ]
     },
     "execution_count": 6,
     "metadata": {},
     "output_type": "execute_result"
    }
   ],
   "source": [
    "df_quant.describe().transpose()"
   ]
  },
  {
   "cell_type": "markdown",
   "metadata": {},
   "source": [
    "## Qualitative Summary Stats\n",
    "The top is the most common value\n",
    "The freq is the most common value’s frequency"
   ]
  },
  {
   "cell_type": "code",
   "execution_count": 7,
   "metadata": {},
   "outputs": [
    {
     "data": {
      "text/html": [
       "<div>\n",
       "<style scoped>\n",
       "    .dataframe tbody tr th:only-of-type {\n",
       "        vertical-align: middle;\n",
       "    }\n",
       "\n",
       "    .dataframe tbody tr th {\n",
       "        vertical-align: top;\n",
       "    }\n",
       "\n",
       "    .dataframe thead th {\n",
       "        text-align: right;\n",
       "    }\n",
       "</style>\n",
       "<table border=\"1\" class=\"dataframe\">\n",
       "  <thead>\n",
       "    <tr style=\"text-align: right;\">\n",
       "      <th></th>\n",
       "      <th>count</th>\n",
       "      <th>unique</th>\n",
       "      <th>top</th>\n",
       "      <th>freq</th>\n",
       "    </tr>\n",
       "  </thead>\n",
       "  <tbody>\n",
       "    <tr>\n",
       "      <th>id</th>\n",
       "      <td>823.0</td>\n",
       "      <td>24.0</td>\n",
       "      <td>2011062.0</td>\n",
       "      <td>43.0</td>\n",
       "    </tr>\n",
       "    <tr>\n",
       "      <th>year</th>\n",
       "      <td>823.0</td>\n",
       "      <td>1.0</td>\n",
       "      <td>2011.0</td>\n",
       "      <td>823.0</td>\n",
       "    </tr>\n",
       "    <tr>\n",
       "      <th>month</th>\n",
       "      <td>823.0</td>\n",
       "      <td>12.0</td>\n",
       "      <td>1.0</td>\n",
       "      <td>81.0</td>\n",
       "    </tr>\n",
       "    <tr>\n",
       "      <th>gender</th>\n",
       "      <td>820.0</td>\n",
       "      <td>2.0</td>\n",
       "      <td>1.0</td>\n",
       "      <td>592.0</td>\n",
       "    </tr>\n",
       "    <tr>\n",
       "      <th>family_type</th>\n",
       "      <td>823.0</td>\n",
       "      <td>11.0</td>\n",
       "      <td>8.0</td>\n",
       "      <td>171.0</td>\n",
       "    </tr>\n",
       "    <tr>\n",
       "      <th>age</th>\n",
       "      <td>823.0</td>\n",
       "      <td>3.0</td>\n",
       "      <td>3.0</td>\n",
       "      <td>498.0</td>\n",
       "    </tr>\n",
       "    <tr>\n",
       "      <th>civil_status</th>\n",
       "      <td>812.0</td>\n",
       "      <td>4.0</td>\n",
       "      <td>2.0</td>\n",
       "      <td>560.0</td>\n",
       "    </tr>\n",
       "    <tr>\n",
       "      <th>education</th>\n",
       "      <td>823.0</td>\n",
       "      <td>8.0</td>\n",
       "      <td>6.0</td>\n",
       "      <td>266.0</td>\n",
       "    </tr>\n",
       "    <tr>\n",
       "      <th>employment</th>\n",
       "      <td>823.0</td>\n",
       "      <td>8.0</td>\n",
       "      <td>1.0</td>\n",
       "      <td>397.0</td>\n",
       "    </tr>\n",
       "    <tr>\n",
       "      <th>housing</th>\n",
       "      <td>823.0</td>\n",
       "      <td>4.0</td>\n",
       "      <td>2.0</td>\n",
       "      <td>499.0</td>\n",
       "    </tr>\n",
       "    <tr>\n",
       "      <th>second_home</th>\n",
       "      <td>823.0</td>\n",
       "      <td>2.0</td>\n",
       "      <td>2.0</td>\n",
       "      <td>810.0</td>\n",
       "    </tr>\n",
       "    <tr>\n",
       "      <th>holiday_rec</th>\n",
       "      <td>823.0</td>\n",
       "      <td>2.0</td>\n",
       "      <td>2.0</td>\n",
       "      <td>805.0</td>\n",
       "    </tr>\n",
       "    <tr>\n",
       "      <th>holiday_rec_abroad</th>\n",
       "      <td>18.0</td>\n",
       "      <td>2.0</td>\n",
       "      <td>2.0</td>\n",
       "      <td>17.0</td>\n",
       "    </tr>\n",
       "    <tr>\n",
       "      <th>holiday_rec_domestic</th>\n",
       "      <td>18.0</td>\n",
       "      <td>2.0</td>\n",
       "      <td>1.0</td>\n",
       "      <td>17.0</td>\n",
       "    </tr>\n",
       "  </tbody>\n",
       "</table>\n",
       "</div>"
      ],
      "text/plain": [
       "                      count  unique        top   freq\n",
       "id                    823.0    24.0  2011062.0   43.0\n",
       "year                  823.0     1.0     2011.0  823.0\n",
       "month                 823.0    12.0        1.0   81.0\n",
       "gender                820.0     2.0        1.0  592.0\n",
       "family_type           823.0    11.0        8.0  171.0\n",
       "age                   823.0     3.0        3.0  498.0\n",
       "civil_status          812.0     4.0        2.0  560.0\n",
       "education             823.0     8.0        6.0  266.0\n",
       "employment            823.0     8.0        1.0  397.0\n",
       "housing               823.0     4.0        2.0  499.0\n",
       "second_home           823.0     2.0        2.0  810.0\n",
       "holiday_rec           823.0     2.0        2.0  805.0\n",
       "holiday_rec_abroad     18.0     2.0        2.0   17.0\n",
       "holiday_rec_domestic   18.0     2.0        1.0   17.0"
      ]
     },
     "execution_count": 7,
     "metadata": {},
     "output_type": "execute_result"
    }
   ],
   "source": [
    "df_qual.describe().transpose()"
   ]
  },
  {
   "cell_type": "markdown",
   "metadata": {},
   "source": [
    "## Part II: Survey Participants\n",
    "\n",
    "Gender: The majority of participants identified as male. 72% male, 27% female\n",
    "Age: 92% of participants were 35 or older. 60% being between 35 and 64 and only 6% being below 35. \n",
    "Family Composition: Roughly 62% or more than half of participants had children, either in a couple (42%) or single or otherwise. And roughly 36% had no children, either in a couple or single. \n",
    "Number of Family Members: The average family size was approximately 3. \n",
    "Civil Status: The majority of participants were married, 69%. \n",
    "Education Level: Approximately 30% had graduated high school (or an even higher degree). While 32% had only primary education, and 25% had less than primary education. \n",
    "Employment Status: 48% were employed, while 30% were retired. 78% were either employed or retired. \n",
    "Housing Status: 60% were homeowners  \n",
    "Second Home Status: 98% of participants had access to a second home. \n"
   ]
  },
  {
   "cell_type": "markdown",
   "metadata": {},
   "source": [
    "## Cross Tabs of Qualitative Data "
   ]
  },
  {
   "cell_type": "code",
   "execution_count": 9,
   "metadata": {},
   "outputs": [
    {
     "name": "stdout",
     "output_type": "stream",
     "text": [
      "col_0                 frequency percent\n",
      "holiday_rec_domestic                   \n",
      "1.0                            0.944444\n",
      "2.0                            0.055556\n"
     ]
    }
   ],
   "source": [
    "tab = (pd.crosstab(index=df['holiday_rec_domestic'], columns='frequency percent')) \n",
    "gender_freq_ratio = tab/tab.sum()\n",
    "family_type_freq_ratio = tab/tab.sum()\n",
    "age_freq_ratio = tab/tab.sum()\n",
    "civil_status_freq_ratio = tab/tab.sum()\n",
    "education_status_freq_ratio = tab/tab.sum()\n",
    "employment_status_freq_ratio = tab/tab.sum()\n",
    "housing_status_freq_ratio = tab/tab.sum()\n",
    "second_home_status_freq_ratio = tab/tab.sum()\n",
    "holiday_rec_status_freq_ratio = tab/tab.sum()\n",
    "holiday_rec_abroad_freq_ratio = tab/tab.sum()\n",
    "holiday_rec_domestic_freq_ratio = tab/tab.sum()\n",
    "print(holiday_rec_domestic_freq_ratio)"
   ]
  },
  {
   "cell_type": "markdown",
   "metadata": {},
   "source": [
    "## Part III: Holiday Behavior and Spending Habits \n",
    "\t\n",
    "In the last month, 97% of participants hadn’t made vacation expenses. Of the 2% who did make holiday expenses in the last month, only 6% were holidays abroad, while 94% were domestic holidays in Italy. Responses on expenses were rather spread out. For the abroad holidays, the most any participant spent was 500 euros and it was for an all inclusive resort. The standard deviation was 17.42. Meanwhile, for domestic holidays, all inclusive resort max spending was 300 euros with a standard deviation of 12.18, the mode and median for both were 0 indicating most participants didn’t spend anything on all inclusive resorts either abroad or domestically.\n",
    "Total expenditures a month had an even wider distribution. \n",
    "Total spending on transportation a month had a standard deviation of 311.95 with 75% of participants spending less than 300 euro, but the max being spent by any respondent was close to 6400 euro. \n",
    "\n",
    "Total spending on food a month had a standard deviation of 321.37 and 75% of respondents spent less than 700 euros, while the max spent was 2002. \n",
    "\n",
    "All expenses a month had a standard deviation of 1134.55. And 75% of participants spent less than 2500 euro, whereas the max spent was 7821 euro. \n"
   ]
  },
  {
   "cell_type": "markdown",
   "metadata": {},
   "source": [
    "## Pivot Tables Analyzing Average Monthly Expenses"
   ]
  },
  {
   "cell_type": "code",
   "execution_count": 10,
   "metadata": {},
   "outputs": [
    {
     "name": "stdout",
     "output_type": "stream",
     "text": [
      "age                  2            3            4\n",
      "education                                       \n",
      "1          2046.520000  3238.435556  2577.350000\n",
      "2          2201.030000  3082.809091  2778.080000\n",
      "3          1471.350000  2737.927000          NaN\n",
      "4          1798.945263  2612.766197  2117.471250\n",
      "5          2406.623333  2132.919355  1732.598571\n",
      "6          1404.086364  1978.858434  1730.102174\n",
      "7          1305.880000  1520.480147  1396.325620\n",
      "8                  NaN  1138.382857  1054.104091\n"
     ]
    }
   ],
   "source": [
    "data = df\n",
    "pivot_age_edu_spend = pd.pivot_table(data=data, index=[\"education\"],columns=[\"age\"], values='all_exp', aggfunc='mean')\n",
    "print(pivot_age_edu_spend)"
   ]
  },
  {
   "cell_type": "code",
   "execution_count": 11,
   "metadata": {},
   "outputs": [
    {
     "name": "stdout",
     "output_type": "stream",
     "text": [
      "age                   2            3            4\n",
      "employment                                       \n",
      "1           1807.654651  2423.258725  2615.513333\n",
      "2           1132.628333  1713.270333          NaN\n",
      "3            898.060000  1227.365000          NaN\n",
      "4           1812.630000  1609.062222  1181.631765\n",
      "5           1113.423333          NaN          NaN\n",
      "6                   NaN  1854.514000  1510.092000\n",
      "7                   NaN  1870.712600  1550.797921\n",
      "8                   NaN  1648.325789  1252.956667\n"
     ]
    }
   ],
   "source": [
    "data = df\n",
    "pivot_age_emp_spend = pd.pivot_table(data=data, index=[\"employment\"],columns=[\"age\"], values='all_exp', aggfunc='mean')\n",
    "print(pivot_age_emp_spend)"
   ]
  },
  {
   "cell_type": "code",
   "execution_count": 12,
   "metadata": {},
   "outputs": [
    {
     "name": "stdout",
     "output_type": "stream",
     "text": [
      "civil_status          1.0          2.0          3.0          4.0\n",
      "employment                                                      \n",
      "1             1804.155652  2480.322690  1811.937600  3071.357143\n",
      "2              815.070000  1628.579412  2007.110000          NaN\n",
      "3             1146.640000   935.810000          NaN  1259.545000\n",
      "4             1046.640000  1842.245455  1754.185000  1178.735714\n",
      "5             1113.423333          NaN          NaN          NaN\n",
      "6              708.935000  2454.462857   702.805000  1118.640000\n",
      "7             1259.558182  1756.187485  1174.340000  1338.673881\n",
      "8             1011.426000  2044.269167  1231.603333  1217.355500\n"
     ]
    }
   ],
   "source": [
    "data = df\n",
    "pivot_civil_emp_spend = pd.pivot_table(data=data, index=[\"employment\"],columns=[\"civil_status\"], values='all_exp', aggfunc='mean')\n",
    "print(pivot_civil_emp_spend)"
   ]
  },
  {
   "cell_type": "code",
   "execution_count": 13,
   "metadata": {},
   "outputs": [
    {
     "name": "stdout",
     "output_type": "stream",
     "text": [
      "civil_status          1.0          2.0          3.0          4.0\n",
      "family_type                                                     \n",
      "1             1855.862105  1324.496667  1009.040000          NaN\n",
      "2             1487.187667  1282.351875  1639.707500  1032.907857\n",
      "3              858.608000          NaN  1095.076667   978.650984\n",
      "4                     NaN  1646.564000          NaN          NaN\n",
      "5             1901.935000  1896.896042          NaN          NaN\n",
      "6                     NaN  1490.705823          NaN          NaN\n",
      "7             2284.285000  2159.322640  1588.425000  2294.865000\n",
      "8             2186.590000  2627.507939  2729.515000  1565.480000\n",
      "9                     NaN  2434.550926          NaN          NaN\n",
      "10            1354.262500  2125.613462  1498.286000  1807.082857\n",
      "11            1672.015714  2174.972308  2931.145000  1899.417500\n"
     ]
    }
   ],
   "source": [
    "data = df\n",
    "pivot_fam_civ_spend = pd.pivot_table(data=data, index=[\"family_type\"],columns=[\"civil_status\"], values='all_exp', aggfunc='mean')\n",
    "print(pivot_fam_civ_spend)"
   ]
  },
  {
   "cell_type": "code",
   "execution_count": 18,
   "metadata": {},
   "outputs": [
    {
     "name": "stdout",
     "output_type": "stream",
     "text": [
      "housing                1            2            3            4\n",
      "family_type                                                    \n",
      "1            1327.117778  2071.951000  2549.285000  1240.885000\n",
      "2             918.371000  1720.330571  1751.465000  1500.633333\n",
      "3             749.292632  1073.120204   886.115714   709.950000\n",
      "4             999.440000  2033.640000          NaN  1603.500000\n",
      "5            1187.064286  2232.182500  1536.145000  1866.925000\n",
      "6            1204.413750  1565.387419          NaN  1340.520000\n",
      "7            1753.053488  2449.971169  1425.030000  1686.199091\n",
      "8            2215.328108  2855.112963  2010.110000  2195.357778\n",
      "9            2200.273333  2587.318108  2325.710000  1751.497500\n",
      "10           1324.572414  2146.430000  1682.155000  2068.317143\n",
      "11           1364.297692  2440.535000  1734.155000  1481.600000\n",
      "15243.22448098534\n"
     ]
    }
   ],
   "source": [
    "data = df\n",
    "pivot_fam_housing_spend = pd.pivot_table(data=data, index=[\"family_type\"],columns=[\"housing\"], values='all_exp', aggfunc='mean')\n",
    "print(pivot_fam_housing_spend)\n",
    "print(pivot_fam_housing_spend[1].sum())"
   ]
  },
  {
   "cell_type": "code",
   "execution_count": 17,
   "metadata": {},
   "outputs": [
    {
     "name": "stdout",
     "output_type": "stream",
     "text": [
      "housing              1            2         3            4\n",
      "education                                                 \n",
      "1          2104.890000  3064.674545       NaN          NaN\n",
      "2          1675.400000  3196.501471  1321.565  2324.720000\n",
      "3          3323.880000  2607.755000       NaN  2332.350000\n",
      "4          2083.994889  2649.221575  2546.424  1874.300625\n",
      "5          1312.062727  2293.960000  2531.155  3562.250000\n",
      "6          1448.218111  2169.971275  1569.840  1881.717000\n",
      "7          1224.417465  1601.244870  1172.898  1316.760000\n",
      "8           936.931875  1155.112000   625.535  1151.306667\n",
      "housing\n",
      "1    3323.880000\n",
      "2    3196.501471\n",
      "3    2546.424000\n",
      "4    3562.250000\n",
      "dtype: float64\n"
     ]
    }
   ],
   "source": [
    "data = df\n",
    "pivot_edu_housing_spend = pd.pivot_table(data=data, index=[\"education\"],columns=[\"housing\"], values='all_exp', aggfunc='mean')\n",
    "print(pivot_edu_housing_spend)\n",
    "print(pivot_edu_housing_spend.max())"
   ]
  },
  {
   "cell_type": "markdown",
   "metadata": {},
   "source": [
    "## Pivot Tables by Travel Spend"
   ]
  },
  {
   "cell_type": "code",
   "execution_count": 19,
   "metadata": {},
   "outputs": [
    {
     "name": "stdout",
     "output_type": "stream",
     "text": [
      "housing      1         2    3    4\n",
      "education                         \n",
      "1          0.0  0.000000  NaN  NaN\n",
      "2          0.0  0.000000  0.0  0.0\n",
      "3          0.0  0.000000  NaN  0.0\n",
      "4          0.0  3.543307  0.0  0.0\n",
      "5          0.0  0.000000  0.0  0.0\n",
      "6          0.0  0.000000  0.0  0.0\n",
      "7          0.0  0.869565  0.0  0.0\n",
      "8          0.0  0.000000  0.0  0.0\n",
      "housing\n",
      "1    0.000000\n",
      "2    3.543307\n",
      "3    0.000000\n",
      "4    0.000000\n",
      "dtype: float64\n"
     ]
    }
   ],
   "source": [
    "data = df\n",
    "pivot_edu_housing_travle_domestic_spend = pd.pivot_table(data=data, index=[\"education\"],columns=[\"housing\"], values='domestic_all_inc', aggfunc='mean')\n",
    "print(pivot_edu_housing_travle_domestic_spend)\n",
    "print(pivot_edu_housing_travle_domestic_spend.max())"
   ]
  },
  {
   "cell_type": "code",
   "execution_count": 20,
   "metadata": {},
   "outputs": [
    {
     "name": "stdout",
     "output_type": "stream",
     "text": [
      "housing      1         2    3    4\n",
      "education                         \n",
      "1          0.0  0.000000  NaN  NaN\n",
      "2          0.0  0.000000  0.0  0.0\n",
      "3          0.0  0.000000  NaN  0.0\n",
      "4          0.0  0.000000  0.0  0.0\n",
      "5          0.0  0.000000  0.0  0.0\n",
      "6          0.0  3.355705  0.0  0.0\n",
      "7          0.0  0.000000  0.0  0.0\n",
      "8          0.0  0.000000  0.0  0.0\n",
      "housing\n",
      "1    0.000000\n",
      "2    3.355705\n",
      "3    0.000000\n",
      "4    0.000000\n",
      "dtype: float64\n"
     ]
    }
   ],
   "source": [
    "data = df\n",
    "pivot_edu_housing_travle_domestic_spend = pd.pivot_table(data=data, index=[\"education\"],columns=[\"housing\"], values='abroad_all_inc', aggfunc='mean')\n",
    "print(pivot_edu_housing_travle_domestic_spend)\n",
    "print(pivot_edu_housing_travle_domestic_spend.max())"
   ]
  },
  {
   "cell_type": "markdown",
   "metadata": {},
   "source": [
    "## Bar Plots"
   ]
  },
  {
   "cell_type": "code",
   "execution_count": 32,
   "metadata": {},
   "outputs": [
    {
     "data": {
      "image/png": "[encoded data removed]",
      "text/plain": [
       "<Figure size 432x288 with 1 Axes>"
      ]
     },
     "metadata": {},
     "output_type": "display_data"
    }
   ],
   "source": [
    "sns.set_theme(style=\"ticks\") #darkgrid, whitegrid, dark, white, and ticks\n",
    "sns.set_palette('pastel')\n",
    "ex = sns.barplot(x=df['age'], y =df['abroad_all_inc'], hue=df['gender'])\n",
    "sns.despine()"
   ]
  },
  {
   "cell_type": "code",
   "execution_count": 23,
   "metadata": {},
   "outputs": [
    {
     "data": {
      "image/png": "[encoded data removed]",
      "text/plain": [
       "<Figure size 432x288 with 1 Axes>"
      ]
     },
     "metadata": {},
     "output_type": "display_data"
    }
   ],
   "source": [
    "sns.set_theme(style=\"ticks\") #darkgrid, whitegrid, dark, white, and ticks\n",
    "sns.set_palette('pastel')\n",
    "ex = sns.barplot(x=df['age'], y =df['domestic_all_inc'], hue=df['gender'])\n",
    "sns.despine()"
   ]
  },
  {
   "cell_type": "code",
   "execution_count": 33,
   "metadata": {},
   "outputs": [
    {
     "data": {
      "image/png": "[encoded data removed]",
      "text/plain": [
       "<Figure size 432x288 with 1 Axes>"
      ]
     },
     "metadata": {},
     "output_type": "display_data"
    }
   ],
   "source": [
    "sns.set_theme(style=\"ticks\") #darkgrid, whitegrid, dark, white, and ticks\n",
    "sns.set_palette('pastel')\n",
    "ex = sns.barplot(x=df['age'], y =df['trasp'], hue=df['gender'])\n",
    "sns.despine()"
   ]
  },
  {
   "cell_type": "code",
   "execution_count": 34,
   "metadata": {},
   "outputs": [
    {
     "data": {
      "image/png": "[encoded data removed]",
      "text/plain": [
       "<Figure size 432x288 with 1 Axes>"
      ]
     },
     "metadata": {},
     "output_type": "display_data"
    }
   ],
   "source": [
    "sns.set_theme(style=\"ticks\") #darkgrid, whitegrid, dark, white, and ticks\n",
    "sns.set_palette('pastel')\n",
    "ex = sns.barplot(x=df['age'], y =df['all_exp'], hue=df['gender'])\n",
    "sns.despine()"
   ]
  },
  {
   "cell_type": "code",
   "execution_count": 35,
   "metadata": {},
   "outputs": [
    {
     "data": {
      "image/png": "[encoded data removed]",
      "text/plain": [
       "<Figure size 432x288 with 1 Axes>"
      ]
     },
     "metadata": {},
     "output_type": "display_data"
    }
   ],
   "source": [
    "sns.set_theme(style=\"ticks\") #darkgrid, whitegrid, dark, white, and ticks\n",
    "sns.set_palette('pastel')\n",
    "ex = sns.barplot(x=df['age'], y =df['food_exp'], hue=df['gender'])\n",
    "sns.despine()"
   ]
  },
  {
   "cell_type": "markdown",
   "metadata": {},
   "source": [
    "## Pie Charts for Binary Values"
   ]
  },
  {
   "cell_type": "code",
   "execution_count": 26,
   "metadata": {},
   "outputs": [],
   "source": [
    "#transform gender data series\n",
    "male = 0\n",
    "female = 0\n",
    "for index, value in df[\"gender\"].items():\n",
    "    if value == 1:\n",
    "        male +=1\n",
    "    elif value == 2:\n",
    "        female +=1\n",
    "gender = {\"male\":male, \"female\":female}\n",
    "#second home\n",
    "no_second_home = 0\n",
    "yes_second_home = 0\n",
    "for index, value in df[\"second_home\"].items():\n",
    "    if value == 1:\n",
    "        no_second_home +=1\n",
    "    elif value == 2:\n",
    "        yes_second_home +=1\n",
    "second_home = {\"no_second_home\":no_second_home, \"yes_second_home\":yes_second_home }"
   ]
  },
  {
   "cell_type": "code",
   "execution_count": 28,
   "metadata": {},
   "outputs": [
    {
     "data": {
      "image/png": "[encoded data removed]",
      "text/plain": [
       "<Figure size 432x288 with 1 Axes>"
      ]
     },
     "metadata": {},
     "output_type": "display_data"
    }
   ],
   "source": [
    "x = [int(gender[\"male\"]), int(gender[\"female\"])]\n",
    "# print(type(x))\n",
    "labels = [\"male\", \"female\"]\n",
    "colors = sns.color_palette('pastel')[0:5]\n",
    "plt.pyplot.pie(x, labels=labels, colors=colors, autopct='%.0f%%')\n",
    "plt.pyplot.show()"
   ]
  },
  {
   "cell_type": "code",
   "execution_count": 25,
   "metadata": {},
   "outputs": [
    {
     "data": {
      "image/png": "[encoded data removed]",
      "text/plain": [
       "<Figure size 432x288 with 1 Axes>"
      ]
     },
     "metadata": {},
     "output_type": "display_data"
    }
   ],
   "source": [
    "x = [int(second_home[\"no_second_home\"]), int(second_home[\"yes_second_home\"])]\n",
    "# print(type(x))\n",
    "labels = [\"does not have a second home\", \"has a second home\"]\n",
    "colors = sns.color_palette('pastel')[0:5]\n",
    "plt.pyplot.pie(x, labels=labels, colors=colors, autopct='%.0f%%')\n",
    "plt.pyplot.show()"
   ]
  },
  {
   "cell_type": "markdown",
   "metadata": {},
   "source": [
    "## Heat Maps"
   ]
  },
  {
   "cell_type": "code",
   "execution_count": 30,
   "metadata": {},
   "outputs": [
    {
     "data": {
      "image/png": "[encoded data removed]",
      "text/plain": [
       "<Figure size 432x288 with 2 Axes>"
      ]
     },
     "metadata": {},
     "output_type": "display_data"
    }
   ],
   "source": [
    "heatmap_qual = ['housing', 'education', 'all_exp']\n",
    "df_heatmap = df.loc[:,heatmap_qual]\n",
    "data_to_use = df_heatmap.pivot_table(\"all_exp\",\"housing\", \"education\")\n",
    "ax = sns.heatmap(data_to_use)"
   ]
  },
  {
   "cell_type": "code",
   "execution_count": 31,
   "metadata": {},
   "outputs": [
    {
     "data": {
      "image/png": "[encoded data removed]",
      "text/plain": [
       "<Figure size 432x288 with 2 Axes>"
      ]
     },
     "metadata": {},
     "output_type": "display_data"
    }
   ],
   "source": [
    "heatmap_qual = ['civil_status', 'education', 'all_exp']\n",
    "df_heatmap = df.loc[:,heatmap_qual]\n",
    "data_to_use = df_heatmap.pivot_table(\"all_exp\",\"civil_status\", \"education\")\n",
    "ax = sns.heatmap(data_to_use)"
   ]
  },
  {
   "cell_type": "code",
   "execution_count": 21,
   "metadata": {},
   "outputs": [],
   "source": [
    "heatmap_qual = ['employment', 'education', 'all_exp']\n",
    "df_heatmap = df.loc[:,heatmap_qual]"
   ]
  },
  {
   "cell_type": "code",
   "execution_count": 22,
   "metadata": {},
   "outputs": [
    {
     "data": {
      "image/png": "[encoded data removed]",
      "text/plain": [
       "<Figure size 432x288 with 2 Axes>"
      ]
     },
     "metadata": {
      "needs_background": "light"
     },
     "output_type": "display_data"
    }
   ],
   "source": [
    "data_to_use = df_heatmap.pivot_table(\"all_exp\",\"employment\", \"education\")\n",
    "ax = sns.heatmap(data_to_use)"
   ]
  },
  {
   "cell_type": "markdown",
   "metadata": {},
   "source": [
    "## Part IV: Survey Analysis\n",
    "\n",
    "\tAfter running a couple analyses on the survey data, both cross tabulations and pivot tables, we can conclude a couple things about spending habits of participants.  \n",
    "\n",
    "Of the survey participants, after cross-tabulating by education level and age, the highest spenders for monthly expenses, with an average of 3238 euros, were participants with a PhD, between the ages of 35 and 64. The second highest spenders were those with a masters between ages 35 and 64. Meanwhile the lowest spenders were participants ages 65 or older who had no formal education. On average they spent 1054 euro.\n",
    "\n",
    "After cross-tabulating by age and employment level, we found that those aged 18-34 who were looking for first employment spent on average only 898 a month on expenses. \n",
    "\n",
    "Perhaps unsurprisingly, divorced or separated who identified as having a “other family typology” spent 2931, the highest spending group after cross-tabulating by civil status and family size. While singles aged 64 or older spent the least a month, on average 858 euro.This makes sense since separated families likely have to duplicate their spending, compared to those who are married or living together. While single retirees have less dependents and perhaps less income depending on their pension status so would spend more conservatively whether by choice or not. \n",
    "\n",
    "Those who were free-renting, and at least a Lower-Secondary education spent the most on average: 3562, when cross-tabulating participants by housing-status and education. The minimum being spent by those who socially-rented, and had no formal education: 625.535 on average a month. \n",
    "\n",
    "In conclusion, a DMO doing market research would likely want to target higher educated employed persons who own a home and are between the ages of 35 and 64, since they likely have the highest tolerance for higher spending on leisure activities evidenced on their monthly spending habits.. \n",
    "Furthermore we found that those participants who actually spent money on holidays in the last month were:\n",
    "Domestically: Homeowners with Higher-Secondary education\n",
    "Internationally: Homeowners with a Primary Education\n",
    "A DMO would want to take that into consideration, when considering the demographic that is willing to travel and where. \n"
   ]
  }
 ],
 "metadata": {
  "kernelspec": {
   "display_name": "Python 3",
   "language": "python",
   "name": "python3"
  },
  "language_info": {
   "codemirror_mode": {
    "name": "ipython",
    "version": 3
   },
   "file_extension": ".py",
   "mimetype": "text/x-python",
   "name": "python",
   "nbconvert_exporter": "python",
   "pygments_lexer": "ipython3",
   "version": "3.9.7"
  },
  "orig_nbformat": 4
 },
 "nbformat": 4,
 "nbformat_minor": 2
}
